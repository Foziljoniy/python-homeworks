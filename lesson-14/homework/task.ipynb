{
 "cells": [
  {
   "cell_type": "code",
   "execution_count": 4,
   "id": "aa16e131-8e26-44e0-9389-4ea1a9c73852",
   "metadata": {},
   "outputs": [
    {
     "name": "stdout",
     "output_type": "stream",
     "text": [
      "[  0.          20.          37.77777778 100.          25.        ]\n"
     ]
    }
   ],
   "source": [
    "import numpy as np\n",
    "\n",
    "def fahrenheit_to_celsius(f):\n",
    "    return (f - 32) * 5 / 9\n",
    "\n",
    "vectorized_conversion = np.vectorize(fahrenheit_to_celsius)\n",
    "\n",
    "fahrenheit_values = np.array([32, 68, 100, 212, 77])\n",
    "celsius_values = vectorized_conversion(fahrenheit_values)\n",
    "\n",
    "print(celsius_values)\n"
   ]
  },
  {
   "cell_type": "code",
   "execution_count": 12,
   "id": "11b535e4-fbab-4fb7-a426-9b39e759b83e",
   "metadata": {},
   "outputs": [
    {
     "name": "stdout",
     "output_type": "stream",
     "text": [
      "[  2   9  64 625]\n"
     ]
    }
   ],
   "source": [
    "def custom_power(base, exponent):\n",
    "    return base ** exponent\n",
    "vectorized_conversion = np.vectorize(fahrenheit_to_celsius)\n",
    "vectorized_power = np.vectorize(custom_power)\n",
    "base_values = np.array([2, 3, 4, 5])\n",
    "exponent_values = np.array([1, 2, 3, 4])\n",
    "power_results = vectorized_power(base_values, exponent_values)\n",
    "\n",
    "\n",
    "print(power_results)"
   ]
  },
  {
   "cell_type": "code",
   "execution_count": 14,
   "id": "54c2784e-b7fe-408f-9acd-8fb9ebad93cc",
   "metadata": {},
   "outputs": [],
   "source": [
    "# Solving system of equations using numpy\n",
    "A1 = np.array([[4, 5, 6], [3, -1, 1], [2, 1, -2]])\n",
    "b1 = np.array([7, 4, 5])\n",
    "solution1 = np.linalg.solve(A1, b1)\n"
   ]
  },
  {
   "cell_type": "code",
   "execution_count": 16,
   "id": "3840a262-efb1-4c0b-915d-50ce9af30d1c",
   "metadata": {},
   "outputs": [
    {
     "name": "stdout",
     "output_type": "stream",
     "text": [
      "Solution to first system: [ 1.7027027   0.62162162 -0.48648649]\n"
     ]
    }
   ],
   "source": [
    "print(\"Solution to first system:\", solution1)"
   ]
  },
  {
   "cell_type": "code",
   "execution_count": 18,
   "id": "2441508b-1158-40a1-8415-b2a4935cdeb4",
   "metadata": {},
   "outputs": [],
   "source": [
    "# Solving electrical circuit equations\n",
    "A2 = np.array([[10, -2, 3], [-2, 8, -1], [3, -1, 6]])\n",
    "b2 = np.array([12, -5, 15])\n",
    "solution2 = np.linalg.solve(A2, b2)"
   ]
  },
  {
   "cell_type": "code",
   "execution_count": 20,
   "id": "345bed51-439a-4a05-9e9d-34f5e4c89b8d",
   "metadata": {},
   "outputs": [
    {
     "name": "stdout",
     "output_type": "stream",
     "text": [
      "Solution to circuit equations: [ 0.48963731 -0.2253886   2.21761658]\n"
     ]
    }
   ],
   "source": [
    "print(\"Solution to circuit equations:\", solution2)"
   ]
  },
  {
   "cell_type": "code",
   "execution_count": 42,
   "id": "b338b6cb-f54a-4efc-bd13-77fe314c9c0f",
   "metadata": {},
   "outputs": [],
   "source": [
    "try:\n",
    "    image = Image.open(\"C:/Users/fozil/Downloads/gray_img.jpg\")\n",
    "    image.show()\n",
    "except FileNotFoundError:\n",
    "    print(\"File not found. Check the file path.\")\n",
    "except Exception as e:\n",
    "    print(\"An error occurred:\", e)"
   ]
  },
  {
   "cell_type": "code",
   "execution_count": 38,
   "id": "0795fe29-d622-4303-a40d-2a482bf21989",
   "metadata": {},
   "outputs": [],
   "source": [
    "import numpy as np\n",
    "from PIL import Image\n",
    "\n",
    "def flip_image(image_array):\n",
    "    \"\"\"Flips the image horizontally and vertically.\"\"\"\n",
    "    return np.flipud(np.fliplr(image_array))\n",
    "\n",
    "def add_noise(image_array):\n",
    "    \"\"\"Adds random noise to the image.\"\"\"\n",
    "    noise = np.random.randint(0, 50, image_array.shape, dtype=np.uint8)\n",
    "    return np.clip(image_array + noise, 0, 255)\n",
    "\n",
    "def brighten_channels(image_array, value=40):\n",
    "    \"\"\"Brightens each channel by a fixed value.\"\"\"\n",
    "    return np.clip(image_array + value, 0, 255)\n",
    "\n",
    "def apply_mask(image_array, mask_size=(100, 100)):\n",
    "    \"\"\"Applies a black mask to the center of the image. Works for both grayscale and RGB images.\"\"\"\n",
    "    h, w = image_array.shape[:2]  # Get height and width only\n",
    "    y, x = h // 2 - mask_size[0] // 2, w // 2 - mask_size[1] // 2\n",
    "    \n",
    "    if len(image_array.shape) == 2:  # Grayscale image\n",
    "        image_array[y:y+mask_size[0], x:x+mask_size[1]] = 0\n",
    "    else:  # RGB image\n",
    "        image_array[y:y+mask_size[0], x:x+mask_size[1]] = [0, 0, 0]\n",
    "    \n",
    "    return image_array\n",
    "\n",
    "\n",
    "# Load the image\n",
    "image_path = \"C:/Users/fozil/Downloads/gray_img.jpg\"\n",
    "image = Image.open(image_path)\n",
    "image_array = np.array(image, dtype=np.uint8)\n",
    "\n",
    "# Apply transformations\n",
    "flipped_image = flip_image(image_array)\n",
    "noisy_image = add_noise(image_array)\n",
    "brightened_image = brighten_channels(image_array)\n",
    "masked_image = apply_mask(image_array.copy())\n",
    "\n",
    "# Save the modified images\n",
    "Image.fromarray(flipped_image).save(\"C:/Users/fozil/Downloads/gray_img_flipped.jpg\")\n",
    "Image.fromarray(noisy_image).save(\"C:/Users/fozil/Downloads/gray_img_noisy.jpg\")\n",
    "Image.fromarray(brightened_image).save(\"C:/Users/fozil/Downloads/gray_img_brightened.jpg\")\n",
    "Image.fromarray(masked_image).save(\"C:/Users/fozil/Downloads/gray_img_masked.jpg\")"
   ]
  },
  {
   "cell_type": "code",
   "execution_count": 40,
   "id": "86c1f148-b444-4122-97a3-f4b7c77eaf35",
   "metadata": {},
   "outputs": [],
   "source": [
    "\n"
   ]
  },
  {
   "cell_type": "code",
   "execution_count": null,
   "id": "f909b49f-76e6-4f19-8e95-43c9d7b26123",
   "metadata": {},
   "outputs": [],
   "source": []
  }
 ],
 "metadata": {
  "kernelspec": {
   "display_name": "Python 3 (ipykernel)",
   "language": "python",
   "name": "python3"
  },
  "language_info": {
   "codemirror_mode": {
    "name": "ipython",
    "version": 3
   },
   "file_extension": ".py",
   "mimetype": "text/x-python",
   "name": "python",
   "nbconvert_exporter": "python",
   "pygments_lexer": "ipython3",
   "version": "3.12.3"
  }
 },
 "nbformat": 4,
 "nbformat_minor": 5
}
